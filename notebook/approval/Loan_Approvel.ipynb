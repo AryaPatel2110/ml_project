{
 "cells": [
  {
   "cell_type": "code",
   "execution_count": 1,
   "id": "99cac294",
   "metadata": {},
   "outputs": [],
   "source": [
    "import pandas as pd\n",
    "\n",
    "df = pd.read_csv(\"D:/project/ml_project/notebook/approval/loan_approval_dataset.csv\")"
   ]
  },
  {
   "cell_type": "code",
   "execution_count": 2,
   "id": "fcae9433",
   "metadata": {},
   "outputs": [
    {
     "data": {
      "text/plain": [
       "loan_id                      0\n",
       " no_of_dependents            0\n",
       " education                   0\n",
       " self_employed               0\n",
       " income_annum                0\n",
       " loan_amount                 0\n",
       " loan_term                   0\n",
       " cibil_score                 0\n",
       " residential_assets_value    0\n",
       " commercial_assets_value     0\n",
       " luxury_assets_value         0\n",
       " bank_asset_value            0\n",
       "loan_status                  0\n",
       "dtype: int64"
      ]
     },
     "execution_count": 2,
     "metadata": {},
     "output_type": "execute_result"
    }
   ],
   "source": [
    "df.isnull().sum()"
   ]
  },
  {
   "cell_type": "code",
   "execution_count": null,
   "id": "4e7e9b0c",
   "metadata": {},
   "outputs": [],
   "source": []
  },
  {
   "cell_type": "code",
   "execution_count": 4,
   "id": "46fc4192",
   "metadata": {},
   "outputs": [
    {
     "data": {
      "text/plain": [
       "array([' No', ' Yes'], dtype=object)"
      ]
     },
     "execution_count": 4,
     "metadata": {},
     "output_type": "execute_result"
    }
   ],
   "source": [
    "df[' self_employed'].unique()"
   ]
  },
  {
   "cell_type": "code",
   "execution_count": 6,
   "id": "a1c3c879",
   "metadata": {},
   "outputs": [],
   "source": [
    "df[' loan_status']= df[' loan_status'].map({' Rejected': 0, ' Approved': 1})\n",
    "df[' education']= df[' education'].map({' Not Graduate': 0, ' Graduate': 1})\n",
    "df[' self_employed']= df[' self_employed'].map({' No': 0, ' Yes': 1})\n",
    "\n",
    "df.to_csv(\"D:/project/ml_project/notebook/approval/loan_approval_dataset.csv\")"
   ]
  },
  {
   "cell_type": "code",
   "execution_count": 9,
   "id": "ccfd231e",
   "metadata": {},
   "outputs": [
    {
     "data": {
      "text/plain": [
       "loan_id                      int64\n",
       " no_of_dependents            int64\n",
       " education                   int64\n",
       " self_employed               int64\n",
       " income_annum                int64\n",
       " loan_amount                 int64\n",
       " loan_term                   int64\n",
       " cibil_score                 int64\n",
       " residential_assets_value    int64\n",
       " commercial_assets_value     int64\n",
       " luxury_assets_value         int64\n",
       " bank_asset_value            int64\n",
       "loan_status                  int64\n",
       "dtype: object"
      ]
     },
     "execution_count": 9,
     "metadata": {},
     "output_type": "execute_result"
    }
   ],
   "source": [
    "df.dtypes"
   ]
  },
  {
   "cell_type": "code",
   "execution_count": 5,
   "id": "b32b2702",
   "metadata": {},
   "outputs": [],
   "source": [
    "from sklearn.preprocessing import LabelEncoder\n",
    "le = LabelEncoder()\n",
    "\n",
    "df[\" education\"] = le.fit_transform(df[\" education\"])\n",
    "df[\" self_employed\"] = le.fit_transform(df[\" self_employed\"])\n",
    "df[\" loan_status\"] = le.fit_transform(df[\" loan_status\"])"
   ]
  },
  {
   "cell_type": "code",
   "execution_count": 8,
   "id": "a00a5116",
   "metadata": {},
   "outputs": [],
   "source": [
    "x = df.drop([\" loan_status\"],axis=1)\n",
    "y = df[\" loan_status\"]\n",
    "\n",
    "from sklearn.model_selection import train_test_split\n",
    "x_train,x_test,y_train,y_test = train_test_split(x,y,test_size=0.2)"
   ]
  },
  {
   "cell_type": "code",
   "execution_count": 14,
   "id": "790d1e94",
   "metadata": {},
   "outputs": [
    {
     "name": "stdout",
     "output_type": "stream",
     "text": [
      "              precision    recall  f1-score   support\n",
      "\n",
      "           0       0.99      0.97      0.98       549\n",
      "           1       0.94      0.98      0.96       305\n",
      "\n",
      "    accuracy                           0.97       854\n",
      "   macro avg       0.97      0.98      0.97       854\n",
      "weighted avg       0.97      0.97      0.97       854\n",
      "\n",
      "Accuracy of Random Forest is is :  97.30679156908664\n"
     ]
    },
    {
     "data": {
      "text/plain": [
       "Text(0.5, 1.0, 'Confusion matrix: Random Forest')"
      ]
     },
     "execution_count": 14,
     "metadata": {},
     "output_type": "execute_result"
    },
    {
     "data": {
      "image/png": "[encoded data removed]",
      "text/plain": [
       "<Figure size 216x216 with 2 Axes>"
      ]
     },
     "metadata": {
      "needs_background": "light"
     },
     "output_type": "display_data"
    }
   ],
   "source": [
    "from sklearn.ensemble import RandomForestClassifier\n",
    "from sklearn.metrics import classification_report,confusion_matrix,accuracy_score\n",
    "import matplotlib.pyplot as plt\n",
    "import seaborn as sns\n",
    "\n",
    "\n",
    "rf = RandomForestClassifier(n_estimators=100)\n",
    "rf.fit(x_train,y_train)\n",
    "rfpred = rf.predict(x_test)\n",
    "\n",
    "print(classification_report(y_test,rfpred))\n",
    "print(\"Accuracy of Random Forest is is : \",accuracy_score(y_test,rfpred)*100)\n",
    "\n",
    "# Creating confusion matrix\n",
    "plt.figure(figsize = (3,3))\n",
    "sns.heatmap(confusion_matrix(y_test, rfpred), annot=True, cmap=\"Reds\", fmt='g')\n",
    "plt.title('Confusion matrix: Random Forest')"
   ]
  },
  {
   "cell_type": "code",
   "execution_count": null,
   "id": "881440cb",
   "metadata": {},
   "outputs": [],
   "source": []
  }
 ],
 "metadata": {
  "kernelspec": {
   "display_name": "Python 3 (ipykernel)",
   "language": "python",
   "name": "python3"
  },
  "language_info": {
   "codemirror_mode": {
    "name": "ipython",
    "version": 3
   },
   "file_extension": ".py",
   "mimetype": "text/x-python",
   "name": "python",
   "nbconvert_exporter": "python",
   "pygments_lexer": "ipython3",
   "version": "3.10.4"
  }
 },
 "nbformat": 4,
 "nbformat_minor": 5
}
